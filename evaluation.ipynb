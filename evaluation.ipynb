{
 "cells": [
  {
   "cell_type": "code",
   "execution_count": 4,
   "outputs": [],
   "source": [
    "try:\n",
    "    import cPickle as pickle\n",
    "except ImportError:  # Python 3.x\n",
    "    import pickle\n",
    "import os\n",
    "import pandas as pd\n",
    "\n",
    "cur_path = 'summaries.p'\n"
   ],
   "metadata": {
    "collapsed": false
   }
  },
  {
   "cell_type": "code",
   "execution_count": 5,
   "outputs": [
    {
     "name": "stdout",
     "output_type": "stream",
     "text": [
      "steps_1 44\n",
      "steps_2 44\n",
      "auc_1 44\n",
      "auc_2 44\n",
      "auc_forget 44\n",
      "index 44\n",
      "id 44\n",
      "condition 41\n",
      "accuracy_1 44\n",
      "accuracy_2 44\n",
      "accuracy_forget 44\n",
      "hidden_size 44\n"
     ]
    }
   ],
   "source": [
    "with open(cur_path, 'rb') as fp:\n",
    "    data = pickle.load(fp)\n",
    "for i in data.keys():\n",
    "\tprint(i,len(data[i]))\n",
    "# df = pd.DataFrame.from_dict(data, orient='columns')\n",
    "# df"
   ],
   "metadata": {
    "collapsed": false
   }
  }
 ],
 "metadata": {
  "kernelspec": {
   "display_name": "Python 3",
   "language": "python",
   "name": "python3"
  },
  "language_info": {
   "codemirror_mode": {
    "name": "ipython",
    "version": 2
   },
   "file_extension": ".py",
   "mimetype": "text/x-python",
   "name": "python",
   "nbconvert_exporter": "python",
   "pygments_lexer": "ipython2",
   "version": "2.7.6"
  }
 },
 "nbformat": 4,
 "nbformat_minor": 0
}
