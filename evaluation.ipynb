{
 "cells": [
  {
   "cell_type": "code",
   "execution_count": 12,
   "outputs": [],
   "source": [
    "try:\n",
    "    import cPickle as pickle\n",
    "except ImportError:  # Python 3.x\n",
    "    import pickle\n",
    "import os\n",
    "import pandas as pd\n",
    "\n",
    "cur_path = 'summaries.p'\n"
   ],
   "metadata": {
    "collapsed": false
   }
  },
  {
   "cell_type": "code",
   "execution_count": 13,
   "outputs": [
    {
     "name": "stdout",
     "output_type": "stream",
     "text": [
      "steps_1 5\n",
      "steps_2 5\n",
      "auc_1 5\n",
      "auc_2 5\n",
      "auc_forget 5\n",
      "index 5\n",
      "id 5\n",
      "accuracy_1 5\n",
      "accuracy_2 5\n",
      "accuracy_forget 5\n",
      "hidden_size 5\n"
     ]
    },
    {
     "data": {
      "text/plain": "                                             steps_1  \\\n0                                              19242   \n1                                              20143   \n2                                              19761   \n3  [19242, 20143, 19761, [15002, 14928, 15038], [...   \n4  [14384, 14219, 14926, 20562, 19862, 20065, 146...   \n\n                                             steps_2  \\\n0                                               3203   \n1                                               2458   \n2                                               2924   \n3  [3203, 2458, 2924, [10752, 11140, 10729], [674...   \n4  [17329, 14921, 15989, 5191, 5619, 5121, 3986, ...   \n\n                                               auc_1  \\\n0                                           0.999997   \n1                                                1.0   \n2                                           0.999992   \n3  [0.9999972399999294, 0.9999996523993187, 0.999...   \n4  [0.9999979707960228, 0.9999999983999996, 0.999...   \n\n                                               auc_2  \\\n0                                           0.999998   \n1                                           0.998359   \n2                                           0.999888   \n3  [0.9999975383853446, 0.9983589523539776, 0.999...   \n4  [0.9998404413625129, 0.9999354874699169, 0.999...   \n\n                                          auc_forget  \\\n0                                           0.466847   \n1                                           0.422051   \n2                                           0.455402   \n3  [0.4668470908300429, 0.42205086817791204, 0.45...   \n4  [0.5759305438730532, 0.4470831694848258, 0.578...   \n\n                                               index  \\\n0                                                  0   \n1                                                  0   \n2                                                  0   \n3  [0, 0, 0, [0, 0, 0], [0, 0, 0], [0, 0, 0], [0,...   \n4  [0, 0, 0, 1, 1, 1, 2, 2, 2, [0, 0, 0, 1, 1, 1,...   \n\n                                                  id  \\\n0                                           original   \n1                             heterogeneous_constant   \n2                heterogeneous_dynamic_weights_relu6   \n3  [original, heterogeneous_constant, heterogeneo...   \n4  [original, heterogeneous_constant, heterogeneo...   \n\n                                          accuracy_1  \\\n0                                            0.99935   \n1                                            0.99972   \n2                                            0.99886   \n3  [0.99935, 0.99972, 0.99886, [0.99643, 0.99755,...   \n4  [0.99977, 0.99999, 0.99995, 0.9988, 0.999, 0.9...   \n\n                                          accuracy_2  \\\n0                                            0.99924   \n1                                            0.99156   \n2                                            0.99633   \n3  [0.99924, 0.99156, 0.99633, [0.99391, 0.99405,...   \n4  [0.99283, 0.99539, 0.99256, 0.99762, 0.99886, ...   \n\n                                     accuracy_forget  \\\n0                                            0.58277   \n1                                            0.54247   \n2                                             0.5758   \n3  [0.58277, 0.54247, 0.5758, [0.55945, 0.50838, ...   \n4  [0.66161, 0.50095, 0.68175, 0.62485, 0.57298, ...   \n\n                                         hidden_size  \n0                                                 10  \n1                                                 10  \n2                                                 10  \n3  [10, 10, 10, [10, 10, 10], [10, 10, 10], [10, ...  \n4  [10, 10, 10, 10, 10, 10, 10, 10, 10, [10, 10, ...  ",
      "text/html": "<div>\n<style scoped>\n    .dataframe tbody tr th:only-of-type {\n        vertical-align: middle;\n    }\n\n    .dataframe tbody tr th {\n        vertical-align: top;\n    }\n\n    .dataframe thead th {\n        text-align: right;\n    }\n</style>\n<table border=\"1\" class=\"dataframe\">\n  <thead>\n    <tr style=\"text-align: right;\">\n      <th></th>\n      <th>steps_1</th>\n      <th>steps_2</th>\n      <th>auc_1</th>\n      <th>auc_2</th>\n      <th>auc_forget</th>\n      <th>index</th>\n      <th>id</th>\n      <th>accuracy_1</th>\n      <th>accuracy_2</th>\n      <th>accuracy_forget</th>\n      <th>hidden_size</th>\n    </tr>\n  </thead>\n  <tbody>\n    <tr>\n      <th>0</th>\n      <td>19242</td>\n      <td>3203</td>\n      <td>0.999997</td>\n      <td>0.999998</td>\n      <td>0.466847</td>\n      <td>0</td>\n      <td>original</td>\n      <td>0.99935</td>\n      <td>0.99924</td>\n      <td>0.58277</td>\n      <td>10</td>\n    </tr>\n    <tr>\n      <th>1</th>\n      <td>20143</td>\n      <td>2458</td>\n      <td>1.0</td>\n      <td>0.998359</td>\n      <td>0.422051</td>\n      <td>0</td>\n      <td>heterogeneous_constant</td>\n      <td>0.99972</td>\n      <td>0.99156</td>\n      <td>0.54247</td>\n      <td>10</td>\n    </tr>\n    <tr>\n      <th>2</th>\n      <td>19761</td>\n      <td>2924</td>\n      <td>0.999992</td>\n      <td>0.999888</td>\n      <td>0.455402</td>\n      <td>0</td>\n      <td>heterogeneous_dynamic_weights_relu6</td>\n      <td>0.99886</td>\n      <td>0.99633</td>\n      <td>0.5758</td>\n      <td>10</td>\n    </tr>\n    <tr>\n      <th>3</th>\n      <td>[19242, 20143, 19761, [15002, 14928, 15038], [...</td>\n      <td>[3203, 2458, 2924, [10752, 11140, 10729], [674...</td>\n      <td>[0.9999972399999294, 0.9999996523993187, 0.999...</td>\n      <td>[0.9999975383853446, 0.9983589523539776, 0.999...</td>\n      <td>[0.4668470908300429, 0.42205086817791204, 0.45...</td>\n      <td>[0, 0, 0, [0, 0, 0], [0, 0, 0], [0, 0, 0], [0,...</td>\n      <td>[original, heterogeneous_constant, heterogeneo...</td>\n      <td>[0.99935, 0.99972, 0.99886, [0.99643, 0.99755,...</td>\n      <td>[0.99924, 0.99156, 0.99633, [0.99391, 0.99405,...</td>\n      <td>[0.58277, 0.54247, 0.5758, [0.55945, 0.50838, ...</td>\n      <td>[10, 10, 10, [10, 10, 10], [10, 10, 10], [10, ...</td>\n    </tr>\n    <tr>\n      <th>4</th>\n      <td>[14384, 14219, 14926, 20562, 19862, 20065, 146...</td>\n      <td>[17329, 14921, 15989, 5191, 5619, 5121, 3986, ...</td>\n      <td>[0.9999979707960228, 0.9999999983999996, 0.999...</td>\n      <td>[0.9998404413625129, 0.9999354874699169, 0.999...</td>\n      <td>[0.5759305438730532, 0.4470831694848258, 0.578...</td>\n      <td>[0, 0, 0, 1, 1, 1, 2, 2, 2, [0, 0, 0, 1, 1, 1,...</td>\n      <td>[original, heterogeneous_constant, heterogeneo...</td>\n      <td>[0.99977, 0.99999, 0.99995, 0.9988, 0.999, 0.9...</td>\n      <td>[0.99283, 0.99539, 0.99256, 0.99762, 0.99886, ...</td>\n      <td>[0.66161, 0.50095, 0.68175, 0.62485, 0.57298, ...</td>\n      <td>[10, 10, 10, 10, 10, 10, 10, 10, 10, [10, 10, ...</td>\n    </tr>\n  </tbody>\n</table>\n</div>"
     },
     "execution_count": 13,
     "metadata": {},
     "output_type": "execute_result"
    }
   ],
   "source": [
    "with open(cur_path, 'rb') as fp:\n",
    "    data = pickle.load(fp)\n",
    "for i in data.keys():\n",
    "\tif i=='condition':\n",
    "\t\tcontinue\n",
    "\n",
    "\tprint(i,len(data[i]))\n",
    "del data['condition']\n",
    "df = pd.DataFrame.from_dict(data, orient='columns')\n",
    "df"
   ],
   "metadata": {
    "collapsed": false
   }
  }
 ],
 "metadata": {
  "kernelspec": {
   "display_name": "Python 3",
   "language": "python",
   "name": "python3"
  },
  "language_info": {
   "codemirror_mode": {
    "name": "ipython",
    "version": 2
   },
   "file_extension": ".py",
   "mimetype": "text/x-python",
   "name": "python",
   "nbconvert_exporter": "python",
   "pygments_lexer": "ipython2",
   "version": "2.7.6"
  }
 },
 "nbformat": 4,
 "nbformat_minor": 0
}
