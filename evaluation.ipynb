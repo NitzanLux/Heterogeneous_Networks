{
 "cells": [
  {
   "cell_type": "code",
   "execution_count": 6,
   "outputs": [],
   "source": [
    "try:\n",
    "    import cPickle as pickle\n",
    "except ImportError:  # Python 3.x\n",
    "    import pickle\n",
    "import os\n",
    "import pandas as pd\n",
    "\n",
    "cur_path = 'summaries.p'\n"
   ],
   "metadata": {
    "collapsed": false
   }
  },
  {
   "cell_type": "code",
   "execution_count": 7,
   "outputs": [
    {
     "name": "stdout",
     "output_type": "stream",
     "text": [
      "steps_1 3\n",
      "steps_2 3\n",
      "auc_1 3\n",
      "auc_2 3\n",
      "auc_forget 3\n",
      "index 3\n",
      "id 3\n",
      "condition 0\n",
      "accuracy_1 3\n",
      "accuracy_2 3\n",
      "accuracy_forget 3\n",
      "hidden_size 3\n"
     ]
    }
   ],
   "source": [
    "with open(cur_path, 'rb') as fp:\n",
    "    data = pickle.load(fp)\n",
    "for i in data.keys():\n",
    "\tprint(i,len(data[i]))\n",
    "# df = pd.DataFrame.from_dict(data, orient='columns')\n",
    "# df"
   ],
   "metadata": {
    "collapsed": false
   }
  }
 ],
 "metadata": {
  "kernelspec": {
   "display_name": "Python 3",
   "language": "python",
   "name": "python3"
  },
  "language_info": {
   "codemirror_mode": {
    "name": "ipython",
    "version": 2
   },
   "file_extension": ".py",
   "mimetype": "text/x-python",
   "name": "python",
   "nbconvert_exporter": "python",
   "pygments_lexer": "ipython2",
   "version": "2.7.6"
  }
 },
 "nbformat": 4,
 "nbformat_minor": 0
}
